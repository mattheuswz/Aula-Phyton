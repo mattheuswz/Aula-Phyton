{
  "nbformat": 4,
  "nbformat_minor": 0,
  "metadata": {
    "colab": {
      "provenance": [],
      "authorship_tag": "ABX9TyMHxVNujsWXM/GJtuPduUsP",
      "include_colab_link": true
    },
    "kernelspec": {
      "name": "python3",
      "display_name": "Python 3"
    },
    "language_info": {
      "name": "python"
    }
  },
  "cells": [
    {
      "cell_type": "markdown",
      "metadata": {
        "id": "view-in-github",
        "colab_type": "text"
      },
      "source": [
        "<a href=\"https://colab.research.google.com/github/mattheuswz/Aula-Phyton/blob/main/Aula01_Python.ipynb\" target=\"_parent\"><img src=\"https://colab.research.google.com/assets/colab-badge.svg\" alt=\"Open In Colab\"/></a>"
      ]
    },
    {
      "cell_type": "code",
      "source": [
        "print(\"Eu vou programar, geral!\")"
      ],
      "metadata": {
        "colab": {
          "base_uri": "https://localhost:8080/"
        },
        "id": "wZ3e95wxv0sM",
        "outputId": "634887b5-b895-464f-a084-80507e22d71f"
      },
      "execution_count": 2,
      "outputs": [
        {
          "output_type": "stream",
          "name": "stdout",
          "text": [
            "Eu vou programar, geral!\n"
          ]
        }
      ]
    },
    {
      "cell_type": "code",
      "source": [
        "#Variaveis\n",
        "nome = \"Matheus\"\n",
        "print(nome)"
      ],
      "metadata": {
        "colab": {
          "base_uri": "https://localhost:8080/"
        },
        "id": "kqeyB6xpwPSS",
        "outputId": "9f344c2a-d3f8-4492-84a8-24e6e9d96cb0"
      },
      "execution_count": 3,
      "outputs": [
        {
          "output_type": "stream",
          "name": "stdout",
          "text": [
            "Matheus\n"
          ]
        }
      ]
    },
    {
      "cell_type": "code",
      "source": [
        "#Operações com variaveis\n",
        "a = 50\n",
        "b = 66\n",
        "print(a+b)"
      ],
      "metadata": {
        "colab": {
          "base_uri": "https://localhost:8080/"
        },
        "id": "Sf4fJgajw8Mr",
        "outputId": "4bef77ef-0261-4632-ff4e-a42b01c503b6"
      },
      "execution_count": 4,
      "outputs": [
        {
          "output_type": "stream",
          "name": "stdout",
          "text": [
            "116\n"
          ]
        }
      ]
    },
    {
      "cell_type": "markdown",
      "source": [
        "1. Pega o número de uma variavel e devolve o dobro.\n",
        "2. Lê 3 notas e devolve a média aritmética.\n",
        "3. Pede o ano de nascimento da pessoa e calcula a idade atual dela"
      ],
      "metadata": {
        "id": "6uR9ct-xyQ9o"
      }
    },
    {
      "cell_type": "code",
      "source": [
        "#Retorna dobro\n",
        "a = 16\n",
        "print(a*2)"
      ],
      "metadata": {
        "colab": {
          "base_uri": "https://localhost:8080/"
        },
        "id": "HYtJsQTfyoq6",
        "outputId": "21fd5543-eabd-4478-ef74-f9664a996e79"
      },
      "execution_count": 5,
      "outputs": [
        {
          "output_type": "stream",
          "name": "stdout",
          "text": [
            "32\n"
          ]
        }
      ]
    },
    {
      "cell_type": "code",
      "source": [
        "#Média\n",
        "a = 6\n",
        "b = 9\n",
        "c = 4\n",
        "soma=(a + b + c) /3 \n",
        "print(soma)"
      ],
      "metadata": {
        "colab": {
          "base_uri": "https://localhost:8080/"
        },
        "id": "U_CWnwxhzBLr",
        "outputId": "826b282e-025e-4e24-a568-f2fc1dab37f1"
      },
      "execution_count": 11,
      "outputs": [
        {
          "output_type": "stream",
          "name": "stdout",
          "text": [
            "6.333333333333333\n"
          ]
        }
      ]
    },
    {
      "cell_type": "code",
      "source": [
        "#Idade\n",
        "nasc = 2002\n",
        "soma = 2023 - nasc\n",
        "print(soma)"
      ],
      "metadata": {
        "colab": {
          "base_uri": "https://localhost:8080/"
        },
        "id": "AhnK2oUb0ZqO",
        "outputId": "b090eb6a-4671-4a73-84c6-2dfca2353f15"
      },
      "execution_count": 13,
      "outputs": [
        {
          "output_type": "stream",
          "name": "stdout",
          "text": [
            "21\n"
          ]
        }
      ]
    },
    {
      "cell_type": "code",
      "source": [
        "#Input\n",
        "nome = input(\"Digite seu nome: \")\n",
        "print('Olá ' +nome)"
      ],
      "metadata": {
        "colab": {
          "base_uri": "https://localhost:8080/"
        },
        "id": "a8815y6N2ciO",
        "outputId": "6cf3d870-0588-46c1-9f24-abdc437bb1eb"
      },
      "execution_count": 19,
      "outputs": [
        {
          "output_type": "stream",
          "name": "stdout",
          "text": [
            "Digite seu nome: Matheus\n",
            "Olá Matheus\n"
          ]
        }
      ]
    },
    {
      "cell_type": "code",
      "source": [
        "num = int(input('Digite um número: '))\n",
        "soma = num * 3\n",
        "print(soma)"
      ],
      "metadata": {
        "colab": {
          "base_uri": "https://localhost:8080/"
        },
        "id": "JPCkF-_R4fhX",
        "outputId": "2a244b37-4529-4107-ef4b-faf0797cb8bd"
      },
      "execution_count": 24,
      "outputs": [
        {
          "output_type": "stream",
          "name": "stdout",
          "text": [
            "Digite um número: 5\n",
            "15\n"
          ]
        }
      ]
    }
  ]
}